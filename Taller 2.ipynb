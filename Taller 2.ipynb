{
  "nbformat": 4,
  "nbformat_minor": 0,
  "metadata": {
    "colab": {
      "name": "Taller_2_Ricardo_Mondragon.ipynb",
      "provenance": []
    },
    "kernelspec": {
      "name": "python3",
      "display_name": "Python 3"
    }
  },
  "cells": [
    {
      "cell_type": "code",
      "metadata": {
        "id": "jXADHBTJxkCq"
      },
      "source": [
        "##import os\n",
        "##from zipfile import ZipFile"
      ],
      "execution_count": null,
      "outputs": []
    },
    {
      "cell_type": "code",
      "metadata": {
        "id": "xsvajdy91qej"
      },
      "source": [
        "##filepath (\"C:\\Users\\ricar\\OneDrive\\Documentos\\Universidad\\Konrad Lorenz\\2o Semestre\\Procesamiento de Lenguaje Natural\\python_books\\\")\n",
        "##with ZipFile(filepath) as archivo:\n",
        "   ## archivo.extractall('..\\Procesamiento de lenguaje Natural\\python_books)"
      ],
      "execution_count": null,
      "outputs": []
    },
    {
      "cell_type": "code",
      "metadata": {
        "id": "caqfCnlqxpO6"
      },
      "source": [
        "pip install fitz"
      ],
      "execution_count": null,
      "outputs": []
    },
    {
      "cell_type": "code",
      "metadata": {
        "id": "3AapYqoWyx8Z"
      },
      "source": [
        "pip install PyMuPDF"
      ],
      "execution_count": null,
      "outputs": []
    },
    {
      "cell_type": "code",
      "metadata": {
        "id": "jh6hTe_WzPYN"
      },
      "source": [
        "import fitz"
      ],
      "execution_count": null,
      "outputs": []
    },
    {
      "cell_type": "code",
      "metadata": {
        "id": "GJ_-Izfc7IrJ"
      },
      "source": [
        "documento1 = fitz.open('C:\\Users\\ricar\\OneDrive\\Documentos\\Universidad\\Konrad Lorenz\\2o Semestre\\Procesamiento de Lenguaje Natural\\python_books\\Python - AWS.pdf')\r\n",
        "documento2 = fitz.open('C:\\Users\\ricar\\OneDrive\\Documentos\\Universidad\\Konrad Lorenz\\2o Semestre\\Procesamiento de Lenguaje Natural\\python_books\\Python  Data Science Cookbook.pdf')\r\n",
        "documento3 = fitz.open('C:\\Users\\ricar\\OneDrive\\Documentos\\Universidad\\Konrad Lorenz\\2o Semestre\\Procesamiento de Lenguaje Natural\\python_books\\Python - Finance.pdf')"
      ],
      "execution_count": null,
      "outputs": []
    },
    {
      "cell_type": "code",
      "metadata": {
        "id": "rhYrfcR4y6wo"
      },
      "source": [
        "print(\"Número de páginas documento 1: \", documento1.pageCount) \n",
        "print(\"Número de páginas documento 2: \", documento2.pageCount) \n",
        "print(\"Número de páginas documento 3: \", documento3.pageCount) "
      ],
      "execution_count": null,
      "outputs": []
    },
    {
      "cell_type": "code",
      "metadata": {
        "id": "LybfEH4wzbJy"
      },
      "source": [
        "#Palabras documento 1\n",
        "for page in documento1.pages(0,documento.pageCount,1):\n",
        "  text = page.get_text(words) #documentación oficial “words”: generate a list of words (strings not containing spaces)\n",
        "words_document1 = len(text)\n",
        "print (\"El documento 1 tiene \" + str(words_document1) + \" palabras\")"
      ],
      "execution_count": null,
      "outputs": []
    },
    {
      "cell_type": "code",
      "metadata": {
        "colab": {
          "base_uri": "https://localhost:8080/",
          "height": 237
        },
        "id": "tqd5N1bI0Nka",
        "outputId": "94ce7f58-9b64-4b1f-dc2f-7f27effd6b10"
      },
      "source": [
        "#Palabras documento 2\n",
        "for page in documento2.pages(0,documento.pageCount,1):\n",
        "  text = page.get_text(words) #documentación oficial “words”: generate a list of words (strings not containing spaces)\n",
        "words_document2 = len(text)\n",
        "print (\"El documento 2 tiene \" + str(words_document2) + \" palabras\")"
      ],
      "execution_count": null,
      "outputs": [
        {
          "output_type": "error",
          "ename": "NameError",
          "evalue": "ignored",
          "traceback": [
            "\u001b[0;31m---------------------------------------------------------------------------\u001b[0m",
            "\u001b[0;31mNameError\u001b[0m                                 Traceback (most recent call last)",
            "\u001b[0;32m<ipython-input-2-62eafecfb21a>\u001b[0m in \u001b[0;36m<module>\u001b[0;34m()\u001b[0m\n\u001b[1;32m      1\u001b[0m \u001b[0;31m#Palabras documento 1\u001b[0m\u001b[0;34m\u001b[0m\u001b[0;34m\u001b[0m\u001b[0;34m\u001b[0m\u001b[0m\n\u001b[0;32m----> 2\u001b[0;31m \u001b[0;32mfor\u001b[0m \u001b[0mpage\u001b[0m \u001b[0;32min\u001b[0m \u001b[0mdocumento2\u001b[0m\u001b[0;34m.\u001b[0m\u001b[0mpages\u001b[0m\u001b[0;34m(\u001b[0m\u001b[0;36m0\u001b[0m\u001b[0;34m,\u001b[0m\u001b[0mdocumento\u001b[0m\u001b[0;34m.\u001b[0m\u001b[0mpageCount\u001b[0m\u001b[0;34m,\u001b[0m\u001b[0;36m1\u001b[0m\u001b[0;34m)\u001b[0m\u001b[0;34m:\u001b[0m\u001b[0;34m\u001b[0m\u001b[0;34m\u001b[0m\u001b[0m\n\u001b[0m\u001b[1;32m      3\u001b[0m   \u001b[0mtext\u001b[0m \u001b[0;34m=\u001b[0m \u001b[0mpage\u001b[0m\u001b[0;34m.\u001b[0m\u001b[0mget_text\u001b[0m\u001b[0;34m(\u001b[0m\u001b[0mwords\u001b[0m\u001b[0;34m)\u001b[0m \u001b[0;31m#documentación oficial “words”: generate a list of words (strings not containing spaces)\u001b[0m\u001b[0;34m\u001b[0m\u001b[0;34m\u001b[0m\u001b[0m\n\u001b[1;32m      4\u001b[0m   \u001b[0mwords_document2\u001b[0m \u001b[0;34m=\u001b[0m \u001b[0mlen\u001b[0m\u001b[0;34m(\u001b[0m\u001b[0mtext\u001b[0m\u001b[0;34m)\u001b[0m\u001b[0;34m\u001b[0m\u001b[0;34m\u001b[0m\u001b[0m\n\u001b[1;32m      5\u001b[0m \u001b[0mprint\u001b[0m \u001b[0;34m(\u001b[0m\u001b[0;34m\"El documento 2 tiene \"\u001b[0m \u001b[0;34m+\u001b[0m \u001b[0mstr\u001b[0m\u001b[0;34m(\u001b[0m\u001b[0mwords_document2\u001b[0m\u001b[0;34m)\u001b[0m \u001b[0;34m+\u001b[0m \u001b[0;34m\" palabras\"\u001b[0m\u001b[0;34m)\u001b[0m\u001b[0;34m\u001b[0m\u001b[0;34m\u001b[0m\u001b[0m\n",
            "\u001b[0;31mNameError\u001b[0m: name 'documento2' is not defined"
          ]
        }
      ]
    },
    {
      "cell_type": "code",
      "metadata": {
        "id": "rVnJtadK0RZh"
      },
      "source": [
        "#Palabras documento 3\n",
        "for page in documento3.pages(0,documento.pageCount,1):\n",
        "  text = page.get_text(words) #documentación oficial “words”: generate a list of words (strings not containing spaces)\n",
        "words_document3 = len(text)\n",
        "print (\"El documento 3 tiene \" + str(words_document3) + \" palabras\")"
      ],
      "execution_count": null,
      "outputs": []
    },
    {
      "cell_type": "code",
      "metadata": {
        "id": "914EDfNi0sPe"
      },
      "source": [
        "if (len(words_document1)> len(words_document2) && (len(words_document1)> len(words_document3)):\n",
        "  print (\"El documento 1 tiene más palabras\")\n",
        "elif (len(words_document2)> len(words_document3)):\n",
        "  print (\"El documento 2 tiene más palabras\")\n",
        "else:\n",
        "  print (\"El documento 3 tiene más palabras\")"
      ],
      "execution_count": null,
      "outputs": []
    }
  ]
}